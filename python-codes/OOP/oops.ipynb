{
 "cells": [
  {
   "cell_type": "code",
   "execution_count": 1,
   "metadata": {},
   "outputs": [],
   "source": [
    "def obj1_speak():pass\n",
    "def obj2_speak():pass\n",
    "\n",
    "obj1_name : str = \"Sir Zia\"\n",
    "obj2_name : str = \"Muhammad Qasim\"\n"
   ]
  },
  {
   "cell_type": "markdown",
   "metadata": {},
   "source": [
    "## OOP (Object Oriented Programming)\n",
    "* Class\n",
    "    * method\n",
    "        * first argument must be additional variable (self, this, or anything else)\n",
    "    * attribute\n",
    "        * connect with individual object\n",
    "    * class variables\n",
    "    * constructor\n",
    "        * def ```__init__(self,arg1, arg2)```\n",
    "\n",
    "    * Class variable\n",
    "        * this value use for all objects\n",
    "            * `ClassName.class_vriable`\n",
    "        * \n",
    "```\n",
    "class ClassName():\n",
    "    class_variable1 : type = Value\n",
    "```\n",
    "\n",
    "\n",
    "## Syntax of class\n",
    "```\n",
    "class ClassName():\n",
    "    pass\n",
    "```\n"
   ]
  },
  {
   "cell_type": "code",
   "execution_count": 10,
   "metadata": {},
   "outputs": [],
   "source": [
    "class Teacher():\n",
    "    def __init__(self, teacher_id : int , teacher_name : str) -> None: # method/constructor\n",
    "        self.name : str = teacher_name #self.attribute_name = value\n",
    "        self.teacher_id : int  = teacher_id\n",
    "        self.organization_name: str = \"PIAIC\"\n",
    "\n",
    "\n",
    "    def speak(self, words : str )->None: # method\n",
    "        print(f\"{self.name} is speaking {words}\")\n",
    "    \n",
    "    def teaching(self, subject : str )->None: # method\n",
    "        print(f\"{self.name} is teaching {subject}...!\")"
   ]
  },
  {
   "cell_type": "code",
   "execution_count": 11,
   "metadata": {},
   "outputs": [],
   "source": [
    "#\n",
    "obj1 : Teacher = Teacher(1,\"Sir Zia Khan\") #intialize object->calling constructor __init__() method only this time\n",
    "# obj1 = object, teacher class instance\n",
    "\n",
    "\n",
    "\n",
    "obj2 : Teacher = Teacher(2, \"Muhammad Qasim\")"
   ]
  },
  {
   "cell_type": "code",
   "execution_count": 16,
   "metadata": {},
   "outputs": [
    {
     "ename": "TypeError",
     "evalue": "Teacher.__init__() missing 1 required positional argument: 'teacher_name'",
     "output_type": "error",
     "traceback": [
      "\u001b[0;31m---------------------------------------------------------------------------\u001b[0m",
      "\u001b[0;31mTypeError\u001b[0m                                 Traceback (most recent call last)",
      "Cell \u001b[0;32mIn[16], line 1\u001b[0m\n\u001b[0;32m----> 1\u001b[0m abc1 : Teacher \u001b[39m=\u001b[39m Teacher(\u001b[39m3\u001b[39;49m)\n",
      "\u001b[0;31mTypeError\u001b[0m: Teacher.__init__() missing 1 required positional argument: 'teacher_name'"
     ]
    }
   ],
   "source": [
    "abc1 : Teacher = Teacher(3)"
   ]
  },
  {
   "cell_type": "code",
   "execution_count": 12,
   "metadata": {},
   "outputs": [
    {
     "name": "stdout",
     "output_type": "stream",
     "text": [
      "Sir Zia Khan\n",
      "1\n",
      "PIAIC\n",
      "Muhammad Qasim\n",
      "2\n",
      "PIAIC\n"
     ]
    }
   ],
   "source": [
    "print(obj1.name)\n",
    "print(obj1.teacher_id)\n",
    "print(obj1.organization_name)\n",
    "\n",
    "print(obj2.name)\n",
    "print(obj2.teacher_id)\n",
    "print(obj2.organization_name)"
   ]
  },
  {
   "cell_type": "code",
   "execution_count": 13,
   "metadata": {},
   "outputs": [
    {
     "name": "stdout",
     "output_type": "stream",
     "text": [
      "Sir Zia Khan is teaching Generative AI...!\n"
     ]
    }
   ],
   "source": [
    "obj1.teaching(\"Generative AI\")"
   ]
  },
  {
   "cell_type": "code",
   "execution_count": 14,
   "metadata": {},
   "outputs": [
    {
     "name": "stdout",
     "output_type": "stream",
     "text": [
      "Muhammad Qasim is teaching Deep Learning...!\n"
     ]
    }
   ],
   "source": [
    "obj2.teaching(\"Deep Learning\")"
   ]
  },
  {
   "cell_type": "code",
   "execution_count": 4,
   "metadata": {},
   "outputs": [
    {
     "data": {
      "text/plain": [
       "['__class__',\n",
       " '__delattr__',\n",
       " '__dict__',\n",
       " '__dir__',\n",
       " '__doc__',\n",
       " '__eq__',\n",
       " '__format__',\n",
       " '__ge__',\n",
       " '__getattribute__',\n",
       " '__getstate__',\n",
       " '__gt__',\n",
       " '__hash__',\n",
       " '__init__',\n",
       " '__init_subclass__',\n",
       " '__le__',\n",
       " '__lt__',\n",
       " '__module__',\n",
       " '__ne__',\n",
       " '__new__',\n",
       " '__reduce__',\n",
       " '__reduce_ex__',\n",
       " '__repr__',\n",
       " '__setattr__',\n",
       " '__sizeof__',\n",
       " '__str__',\n",
       " '__subclasshook__',\n",
       " '__weakref__',\n",
       " 'name',\n",
       " 'organization_name',\n",
       " 'speak',\n",
       " 'teacher_id',\n",
       " 'teaching']"
      ]
     },
     "execution_count": 4,
     "metadata": {},
     "output_type": "execute_result"
    }
   ],
   "source": [
    "dir(obj1)"
   ]
  },
  {
   "cell_type": "code",
   "execution_count": 15,
   "metadata": {},
   "outputs": [],
   "source": [
    "class Teacher():\n",
    "    def __init__(this, teacher_id : int , teacher_name : str) -> None: # method/constructor\n",
    "        this.name : str = teacher_name\n",
    "        this.teacher_id = teacher_id\n",
    "        this.organization_name = \"PIAIC\"\n",
    "\n",
    "\n",
    "    def speak(this, words : str )->None: # method\n",
    "        print(f\"{this.name} is speaking {words}\")\n",
    "    \n",
    "    def teaching(this, subject : str )->None: # method\n",
    "        print(f\"{this.name} is teaching {subject}...!\")\n",
    "\n",
    "\n",
    "obj1 : Teacher = Teacher(1,\"Sir Zia Khan\")\n",
    "obj2 : Teacher = Teacher(2, \"Muhammad Qasim\")"
   ]
  },
  {
   "cell_type": "markdown",
   "metadata": {},
   "source": [
    "# Class Variable\n",
    "\n",
    "* Class variable\n",
    "* this value use for all objects\n",
    "    * `ClassName.class_variable`\n",
    "    * `object_name.class_variable`\n",
    "\n",
    "    ```\n",
    "    class ClassName():\n",
    "        class_variable1 : type = Value\n",
    "    ```"
   ]
  },
  {
   "cell_type": "code",
   "execution_count": 30,
   "metadata": {},
   "outputs": [
    {
     "name": "stdout",
     "output_type": "stream",
     "text": [
      "1 1\n"
     ]
    }
   ],
   "source": [
    "class Teacher():\n",
    "    counter : int = 0 # Class variable1\n",
    "    help_line_number : str = \"0315-2968211\" # class variable2\n",
    "\n",
    "    def __init__(self, teacher_id : int , teacher_name : str) -> None: # method/constructor\n",
    "        self.name : str = teacher_name #self.attribute_name = value\n",
    "        self.teacher_id : int  = teacher_id\n",
    "        self.organization_name: str = \"PIAIC\"\n",
    "        Teacher.counter += 1\n",
    "\n",
    "\n",
    "    def speak(self, words : str )->None: # method\n",
    "        print(f\"{self.name} is speaking {words}\")\n",
    "    \n",
    "    def teaching(self, subject : str )->None: # method\n",
    "        print(f\"{self.name} is teaching {subject}...!\")\n",
    "\n",
    "    def details(self)->None:\n",
    "        information : str = f\"\"\"\n",
    "Teacher name is {self.name}\n",
    "our help line number is {Teacher.help_line_number}\n",
    "\n",
    "\"\"\"\n",
    "        print(information)\n",
    "\n",
    "\n",
    "obj1 : Teacher = Teacher(1,\"Sir Zia Khan\")\n",
    "\n",
    "print(Teacher.counter, obj1.counter)"
   ]
  },
  {
   "cell_type": "code",
   "execution_count": 33,
   "metadata": {},
   "outputs": [
    {
     "data": {
      "text/plain": [
       "4417627216"
      ]
     },
     "execution_count": 33,
     "metadata": {},
     "output_type": "execute_result"
    }
   ],
   "source": [
    "id(obj1)"
   ]
  },
  {
   "cell_type": "code",
   "execution_count": 31,
   "metadata": {},
   "outputs": [
    {
     "name": "stdout",
     "output_type": "stream",
     "text": [
      "2 2\n"
     ]
    }
   ],
   "source": [
    "obj2 : Teacher = Teacher(2, \"Muhammad Qasim\")\n",
    "print(Teacher.counter, obj1.counter)"
   ]
  },
  {
   "cell_type": "code",
   "execution_count": 34,
   "metadata": {},
   "outputs": [
    {
     "data": {
      "text/plain": [
       "4417255424"
      ]
     },
     "execution_count": 34,
     "metadata": {},
     "output_type": "execute_result"
    }
   ],
   "source": [
    "id(obj2)"
   ]
  },
  {
   "cell_type": "code",
   "execution_count": 32,
   "metadata": {},
   "outputs": [
    {
     "name": "stdout",
     "output_type": "stream",
     "text": [
      "2\n",
      "2\n",
      "2\n",
      "0315-2968211\n",
      "0315-2968211\n",
      "0315-2968211\n"
     ]
    }
   ],
   "source": [
    "print(obj1.counter)\n",
    "print(obj2.counter)\n",
    "print(Teacher.counter)\n",
    "\n",
    "print(obj1.help_line_number)\n",
    "print(obj2.help_line_number)\n",
    "print(Teacher.help_line_number)"
   ]
  },
  {
   "cell_type": "code",
   "execution_count": 28,
   "metadata": {},
   "outputs": [
    {
     "name": "stdout",
     "output_type": "stream",
     "text": [
      "\n",
      "Teacher name is Sir Zia Khan\n",
      "our help line number is 0315-2968211\n",
      "\n",
      "\n"
     ]
    }
   ],
   "source": [
    "obj1.details()"
   ]
  },
  {
   "cell_type": "markdown",
   "metadata": {},
   "source": [
    "## 1. Inheritance\n",
    "\n",
    "```\n",
    "class ChileClass(ParentClass):\n",
    "    pass\n",
    "```"
   ]
  },
  {
   "cell_type": "code",
   "execution_count": 37,
   "metadata": {},
   "outputs": [
    {
     "name": "stdout",
     "output_type": "stream",
     "text": [
      "Brown\n",
      "black\n",
      "Parent method speak: Pakistan zinda bad!\n",
      "You are looking TV!\n",
      "======Child object=======\n",
      "You are looking Cenima!\n",
      "None\n",
      "Parent method speak: Hello World\n",
      "None\n",
      "Brown\n",
      "black\n"
     ]
    }
   ],
   "source": [
    "class Parents():\n",
    "    def __init__(self)->None:\n",
    "        self.eye_color : str = \"Brown\"\n",
    "        self.hair_color : str = \"black\"\n",
    "\n",
    "    def speak(self, words: str)->None:\n",
    "        print(f\"Parent method speak: {words}\")\n",
    "\n",
    "    def watching(sef, object_name : str)->None:\n",
    "        print(f\"You are looking {object_name}!\")\n",
    "\n",
    "\n",
    "class Child(Parents):\n",
    "    pass \n",
    "\n",
    "\n",
    "\n",
    "obj1 : Parents = Parents()\n",
    "print(obj1.eye_color)\n",
    "print(obj1.hair_color)\n",
    "obj1.speak(\"Pakistan zinda bad!\")\n",
    "obj1.watching(\"TV\")\n",
    "\n",
    "print(\"======Child object=======\")\n",
    "### Child object \n",
    "\n",
    "obj2 : Child = Child()\n",
    "print(obj2.watching(\"Cenima\"))\n",
    "print(obj2.speak(\"Hello World\"))\n",
    "print(obj2.eye_color)\n",
    "print(obj2.hair_color)\n"
   ]
  },
  {
   "cell_type": "code",
   "execution_count": 38,
   "metadata": {},
   "outputs": [
    {
     "name": "stdout",
     "output_type": "stream",
     "text": [
      "Brown\n",
      "black\n",
      "Parent method speak: Pakistan zinda bad!\n",
      "You are looking TV!\n",
      "======Child object=======\n",
      "You are looking Cenima!\n",
      "Parent method speak: Hello World\n",
      "Brown\n",
      "black\n",
      "Child method for teaching : Generative AI\n"
     ]
    }
   ],
   "source": [
    "class Parents():\n",
    "    def __init__(self)->None:\n",
    "        self.eye_color : str = \"Brown\"\n",
    "        self.hair_color : str = \"black\"\n",
    "\n",
    "    def speak(self, words: str)->None:\n",
    "        print(f\"Parent method speak: {words}\")\n",
    "\n",
    "    def watching(sef, object_name : str)->None:\n",
    "        print(f\"You are looking {object_name}!\")\n",
    "\n",
    "\n",
    "class Child(Parents):\n",
    "    def teaching(self, subject : str = None)->None:\n",
    "        print(f'Child method for teaching : {subject}')\n",
    "     \n",
    "\n",
    "\n",
    "obj1 : Parents = Parents()\n",
    "print(obj1.eye_color)\n",
    "print(obj1.hair_color)\n",
    "obj1.speak(\"Pakistan zinda bad!\")\n",
    "obj1.watching(\"TV\")\n",
    "\n",
    "\n",
    "print(\"======Child object=======\")\n",
    "### Child object \n",
    "\n",
    "obj2 : Child = Child()\n",
    "obj2.watching(\"Cenima\")\n",
    "obj2.speak(\"Hello World\")\n",
    "print(obj2.eye_color)\n",
    "print(obj2.hair_color)\n",
    "obj2.teaching(\"Generative AI\")\n",
    "\n"
   ]
  },
  {
   "cell_type": "code",
   "execution_count": 45,
   "metadata": {},
   "outputs": [
    {
     "ename": "TypeError",
     "evalue": "Developer.__init__() takes 2 positional arguments but 3 were given",
     "output_type": "error",
     "traceback": [
      "\u001b[0;31m---------------------------------------------------------------------------\u001b[0m",
      "\u001b[0;31mTypeError\u001b[0m                                 Traceback (most recent call last)",
      "Cell \u001b[0;32mIn[45], line 24\u001b[0m\n\u001b[1;32m     18\u001b[0m         \u001b[39mself\u001b[39m\u001b[39m.\u001b[39mprogramming_skills : \u001b[39mlist\u001b[39m[\u001b[39mstr\u001b[39m] \u001b[39m=\u001b[39m [\u001b[39m\"\u001b[39m\u001b[39mpython\u001b[39m\u001b[39m\"\u001b[39m]\n\u001b[1;32m     22\u001b[0m designe1 : Designer \u001b[39m=\u001b[39m Designer(\u001b[39m\"\u001b[39m\u001b[39mAnimation Artist\u001b[39m\u001b[39m\"\u001b[39m,\u001b[39m\"\u001b[39m\u001b[39mAsif Khan\u001b[39m\u001b[39m\"\u001b[39m)\n\u001b[0;32m---> 24\u001b[0m dev1 : Developer \u001b[39m=\u001b[39m Developer(\u001b[39m\"\u001b[39;49m\u001b[39mGenAI Engineer\u001b[39;49m\u001b[39m\"\u001b[39;49m,\u001b[39m\"\u001b[39;49m\u001b[39mIsfahan\u001b[39;49m\u001b[39m\"\u001b[39;49m)\n\u001b[1;32m     26\u001b[0m \u001b[39mprint\u001b[39m(designe1\u001b[39m.\u001b[39mtitle)\n\u001b[1;32m     28\u001b[0m \u001b[39mprint\u001b[39m(dev1\u001b[39m.\u001b[39mprogramming_skills)\n",
      "\u001b[0;31mTypeError\u001b[0m: Developer.__init__() takes 2 positional arguments but 3 were given"
     ]
    }
   ],
   "source": [
    "class Employee():\n",
    "    def __init__(self, name:str) -> None:\n",
    "        self.name : str = name\n",
    "        self.education : str  = \"\"\n",
    "        self.department : str = \"\"\n",
    "\n",
    "class Designer(Employee):\n",
    "    def __init__(self, title : str, name: str) -> None:\n",
    "        super().__init__(name)\n",
    "\n",
    "        self.title : str = title\n",
    "\n",
    "\n",
    "class Developer(Employee):\n",
    "    def __init__(self, title:str) -> None:\n",
    "        super().__init__()\n",
    "        self.title: str = title\n",
    "        self.programming_skills : list[str] = [\"python\"]\n",
    "\n",
    "\n",
    "\n",
    "designe1 : Designer = Designer(\"Animation Artist\",\"Asif Khan\")\n",
    "\n",
    "dev1 : Developer = Developer(\"GenAI Engineer\",\"Isfahan\")\n",
    "\n",
    "print(designe1.title)\n",
    "\n",
    "print(dev1.programming_skills)\n",
    "    "
   ]
  },
  {
   "cell_type": "code",
   "execution_count": 44,
   "metadata": {},
   "outputs": [
    {
     "name": "stdout",
     "output_type": "stream",
     "text": [
      "Animation Artist\n",
      "['python']\n"
     ]
    }
   ],
   "source": [
    "from typing import List\n",
    "\n",
    "class Employee:\n",
    "    def __init__(self, name: str) -> None:\n",
    "        self.name: str = name\n",
    "        self.education: str = \"\"\n",
    "        self.department: str = \"\"\n",
    "\n",
    "class Designer(Employee):\n",
    "    def __init__(self, title: str, name: str) -> None:\n",
    "        super().__init__(name)\n",
    "        self.title: str = title\n",
    "\n",
    "class Developer(Employee):\n",
    "    def __init__(self, title: str, name: str) -> None:\n",
    "        super().__init__(name)\n",
    "        self.title: str = title\n",
    "        self.programming_skills: List[str] = [\"python\"]\n",
    "\n",
    "designer1: Designer = Designer(\"Animation Artist\", \"Asif Khan\")\n",
    "dev1: Developer = Developer(\"GenAI Engineer\", \"John Doe\")\n",
    "\n",
    "print(designer1.title)  # Output: Animation Artist\n",
    "print(dev1.programming_skills)  # Output: ['python']\n"
   ]
  },
  {
   "cell_type": "markdown",
   "metadata": {},
   "source": [
    "## 1. Encapsulation\n",
    "Encapsulation: The bundling of data with the methods that operate on that data. It restricts direct access to some of an object's components and can prevent the accidental modification of data.\n",
    "## 2. Abstraction\n",
    "Abstraction: The concept of hiding the complex reality while exposing only the necessary parts. It helps to reduce programming complexity and effort.\n",
    "## 3. Inheritance\n",
    "Inheritance: A mechanism wherein a new class inherits properties and behavior (methods) from another class. This helps to create a new class based on an existing class.\n",
    "## 4. Polymorphism\n",
    "Polymorphism: The ability of different classes to respond to the same message (method call) in different ways. This allows for code to work with objects of various classes as if they were objects of a common superclass."
   ]
  },
  {
   "cell_type": "code",
   "execution_count": null,
   "metadata": {},
   "outputs": [],
   "source": []
  }
 ],
 "metadata": {
  "kernelspec": {
   "display_name": "python12",
   "language": "python",
   "name": "python3"
  },
  "language_info": {
   "codemirror_mode": {
    "name": "ipython",
    "version": 3
   },
   "file_extension": ".py",
   "mimetype": "text/x-python",
   "name": "python",
   "nbconvert_exporter": "python",
   "pygments_lexer": "ipython3",
   "version": "3.12.0"
  },
  "orig_nbformat": 4
 },
 "nbformat": 4,
 "nbformat_minor": 2
}
