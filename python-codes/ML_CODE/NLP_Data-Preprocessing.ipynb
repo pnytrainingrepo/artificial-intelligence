{
 "cells": [
  {
   "cell_type": "code",
   "execution_count": 1,
   "metadata": {},
   "outputs": [],
   "source": [
    "import pandas as pd\n",
    "df= pd.read_csv('./datasets/USA_Housing.csv')"
   ]
  },
  {
   "cell_type": "code",
   "execution_count": 2,
   "metadata": {},
   "outputs": [
    {
     "data": {
      "text/plain": [
       "(5000, 7)"
      ]
     },
     "execution_count": 2,
     "metadata": {},
     "output_type": "execute_result"
    }
   ],
   "source": [
    "df.shape"
   ]
  },
  {
   "cell_type": "code",
   "execution_count": 3,
   "metadata": {},
   "outputs": [],
   "source": [
    "df.to_csv('./datasets/Newfile.csv')"
   ]
  },
  {
   "cell_type": "code",
   "execution_count": 4,
   "metadata": {},
   "outputs": [],
   "source": [
    "# pip install nltk scikit-learn\n",
    "\n",
    "import nltk\n",
    "import string\n",
    "from sklearn.feature_extraction.text import CountVectorizer, TfidfVectorizer\n",
    "from nltk.tokenize import word_tokenize, sent_tokenize\n",
    "from nltk.corpus import stopwords\n",
    "from nltk.stem import PorterStemmer, WordNetLemmatizer\n",
    "from nltk import download\n"
   ]
  },
  {
   "cell_type": "code",
   "execution_count": 5,
   "metadata": {},
   "outputs": [],
   "source": [
    "# Sample text\n",
    "text = \"\"\"\n",
    "The quick brown fox jumps over the lazy dog. The dog barked loudly at the fox ! word# to $.\n",
    "\"\"\"\n",
    "\n",
    "# 1. Text Normalization\n",
    "def normalize_text(text):\n",
    "    text = text.lower()  # Lowercasing\n",
    "    text = text.translate(str.maketrans('', '', string.punctuation))  # Removing punctuation\n",
    "    return text\n",
    "\n",
    "# 2. Tokenization\n",
    "def tokenize_text(text):\n",
    "    words = word_tokenize(text)  # Word Tokenization\n",
    "    return words\n",
    "\n",
    "# 3. Stop Words Removal\n",
    "def remove_stop_words(words):\n",
    "    stop_words = set(stopwords.words('english'))\n",
    "    filtered_words = [word for word in words if word not in stop_words]\n",
    "    return filtered_words\n",
    "\n",
    "# 4. Stemming\n",
    "def stem_words(words):\n",
    "    stemmer = PorterStemmer()\n",
    "    stemmed_words = [stemmer.stem(word) for word in words]\n",
    "    return stemmed_words\n",
    "\n",
    "# 5. Lemmatization\n",
    "def lemmatize_words(words):\n",
    "    lemmatizer = WordNetLemmatizer()\n",
    "    lemmatized_words = [lemmatizer.lemmatize(word) for word in words]\n",
    "    return lemmatized_words"
   ]
  },
  {
   "cell_type": "code",
   "execution_count": 6,
   "metadata": {},
   "outputs": [],
   "source": [
    "# 6. Vectorization\n",
    "def vectorize_text(text):\n",
    "    vectorizer = TfidfVectorizer()  # Using TF-IDF Vectorizer\n",
    "    vectors = vectorizer.fit_transform([text])\n",
    "    return vectors, vectorizer.get_feature_names_out()"
   ]
  },
  {
   "cell_type": "code",
   "execution_count": 7,
   "metadata": {},
   "outputs": [],
   "source": [
    "# Pre-processing pipeline\n",
    "text = normalize_text(text)\n",
    "words = tokenize_text(text)\n",
    "words = remove_stop_words(words)\n",
    "words = stem_words(words)  # You can use lemmatize_words(words) instead of stem_words(words) if preferred\n"
   ]
  },
  {
   "cell_type": "code",
   "execution_count": 8,
   "metadata": {},
   "outputs": [],
   "source": [
    "# Vectorization\n",
    "vectors, feature_names = vectorize_text(' '.join(words))"
   ]
  },
  {
   "cell_type": "code",
   "execution_count": 9,
   "metadata": {},
   "outputs": [
    {
     "name": "stdout",
     "output_type": "stream",
     "text": [
      "  (0, 7)\t0.2581988897471611\n",
      "  (0, 1)\t0.2581988897471611\n",
      "  (0, 3)\t0.5163977794943222\n",
      "  (0, 4)\t0.2581988897471611\n",
      "  (0, 5)\t0.2581988897471611\n",
      "  (0, 2)\t0.5163977794943222\n",
      "  (0, 0)\t0.2581988897471611\n",
      "  (0, 6)\t0.2581988897471611\n",
      "  (0, 8)\t0.2581988897471611\n"
     ]
    }
   ],
   "source": [
    "print(vectors)"
   ]
  },
  {
   "cell_type": "code",
   "execution_count": 10,
   "metadata": {},
   "outputs": [
    {
     "name": "stdout",
     "output_type": "stream",
     "text": [
      "['bark' 'brown' 'dog' 'fox' 'jump' 'lazi' 'loudli' 'quick' 'word']\n"
     ]
    }
   ],
   "source": [
    "print(feature_names)"
   ]
  },
  {
   "cell_type": "code",
   "execution_count": 11,
   "metadata": {},
   "outputs": [
    {
     "name": "stdout",
     "output_type": "stream",
     "text": [
      "Normalized Text: \n",
      "the quick brown fox jumps over the lazy dog the dog barked loudly at the fox  word to \n",
      "\n",
      "Tokenized Words: ['quick', 'brown', 'fox', 'jump', 'lazi', 'dog', 'dog', 'bark', 'loudli', 'fox', 'word']\n",
      "TF-IDF Matrix:\n",
      " [[0.25819889 0.25819889 0.51639778 0.51639778 0.25819889 0.25819889\n",
      "  0.25819889 0.25819889 0.25819889]]\n",
      "Feature Names: ['bark' 'brown' 'dog' 'fox' 'jump' 'lazi' 'loudli' 'quick' 'word']\n"
     ]
    }
   ],
   "source": [
    "print(\"Normalized Text:\", text)\n",
    "print(\"Tokenized Words:\", words)\n",
    "print(\"TF-IDF Matrix:\\n\", vectors.toarray())\n",
    "print(\"Feature Names:\", feature_names)"
   ]
  }
 ],
 "metadata": {
  "kernelspec": {
   "display_name": "Python 3",
   "language": "python",
   "name": "python3"
  },
  "language_info": {
   "codemirror_mode": {
    "name": "ipython",
    "version": 3
   },
   "file_extension": ".py",
   "mimetype": "text/x-python",
   "name": "python",
   "nbconvert_exporter": "python",
   "pygments_lexer": "ipython3",
   "version": "3.12.0"
  }
 },
 "nbformat": 4,
 "nbformat_minor": 2
}
