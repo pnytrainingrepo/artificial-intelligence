{
 "cells": [
  {
   "cell_type": "code",
   "execution_count": 16,
   "metadata": {},
   "outputs": [],
   "source": [
    "import nltk\n",
    "import string\n",
    "from nltk.corpus import stopwords\n",
    "from nltk.tokenize import word_tokenize\n",
    "from nltk import download\n",
    "from nltk.stem import PorterStemmer\n",
    "from nltk.stem import WordNetLemmatizer"
   ]
  },
  {
   "cell_type": "code",
   "execution_count": 17,
   "metadata": {},
   "outputs": [
    {
     "name": "stderr",
     "output_type": "stream",
     "text": [
      "[nltk_data] Downloading package wordnet to c:\\Users\\Azam\\AppData\\Local\n",
      "[nltk_data]     \\Programs\\Python\\Python312\\nltk_data...\n"
     ]
    },
    {
     "data": {
      "text/plain": [
       "True"
      ]
     },
     "execution_count": 17,
     "metadata": {},
     "output_type": "execute_result"
    }
   ],
   "source": [
    "nltk.download('wordnet')"
   ]
  },
  {
   "cell_type": "code",
   "execution_count": 2,
   "metadata": {},
   "outputs": [],
   "source": [
    "# Sample text\n",
    "text = \"The quick brown fox jumps over the lazy dog. The dog barked loudly at the fox! #fox #dog\"\n",
    "\n",
    "# 1. Remove Punctuation\n",
    "def remove_punctuation(text):\n",
    "    return text.translate(str.maketrans('', '', string.punctuation))"
   ]
  },
  {
   "cell_type": "code",
   "execution_count": 3,
   "metadata": {},
   "outputs": [],
   "source": [
    "# 2. Remove Stopwords\n",
    "def remove_stopwords(tokens):\n",
    "    stop_words = set(stopwords.words('english'))\n",
    "    return [word for word in tokens if word.lower() not in stop_words]\n"
   ]
  },
  {
   "cell_type": "code",
   "execution_count": 9,
   "metadata": {},
   "outputs": [],
   "source": [
    "# 3. Tokenization\n",
    "tokens = word_tokenize(remove_punctuation(text))\n",
    "\n",
    "# 4. Remove Stopwords\n",
    "filtered_tokens = remove_stopwords(tokens)"
   ]
  },
  {
   "cell_type": "code",
   "execution_count": 21,
   "metadata": {},
   "outputs": [],
   "source": [
    "stemmer = PorterStemmer()\n",
    "# Stem tokens\n",
    "stemmed_tokens = [stemmer.stem(token) for token in filtered_tokens]"
   ]
  },
  {
   "cell_type": "code",
   "execution_count": 20,
   "metadata": {},
   "outputs": [],
   "source": [
    "unique_tokens = list(set(stemmed_tokens))"
   ]
  },
  {
   "cell_type": "code",
   "execution_count": 18,
   "metadata": {},
   "outputs": [],
   "source": [
    "lemmatizer = WordNetLemmatizer()\n",
    "\n",
    "# Lemmatize tokens\n",
    "lemmatized_tokens = [lemmatizer.lemmatize(token) for token in tokens]"
   ]
  },
  {
   "cell_type": "code",
   "execution_count": 22,
   "metadata": {},
   "outputs": [],
   "source": [
    "unique_tokens = list(set(lemmatized_tokens))"
   ]
  },
  {
   "cell_type": "code",
   "execution_count": 23,
   "metadata": {},
   "outputs": [
    {
     "name": "stdout",
     "output_type": "stream",
     "text": [
      "Original Text: The quick brown fox jumps over the lazy dog. The dog barked loudly at the fox! #fox #dog\n",
      "Tokens: ['The', 'quick', 'brown', 'fox', 'jumps', 'over', 'the', 'lazy', 'dog', 'The', 'dog', 'barked', 'loudly', 'at', 'the', 'fox', 'fox', 'dog']\n",
      "Filtered Tokens (No Stopwords): ['quick', 'brown', 'fox', 'jumps', 'lazy', 'dog', 'dog', 'barked', 'loudly', 'fox', 'fox', 'dog']\n",
      "Stemmed Tokens : ['quick', 'brown', 'fox', 'jump', 'lazi', 'dog', 'dog', 'bark', 'loudli', 'fox', 'fox', 'dog']\n",
      "Lemmatized Stemmed Tokens : ['The', 'quick', 'brown', 'fox', 'jump', 'over', 'the', 'lazy', 'dog', 'The', 'dog', 'barked', 'loudly', 'at', 'the', 'fox', 'fox', 'dog']\n",
      "Unique Stemmed Tokens : ['barked', 'quick', 'over', 'the', 'lazy', 'loudly', 'jump', 'at', 'dog', 'fox', 'brown', 'The']\n"
     ]
    }
   ],
   "source": [
    "print(\"Original Text:\", text)\n",
    "print(\"Tokens:\", tokens)\n",
    "print(\"Filtered Tokens (No Stopwords):\", filtered_tokens)\n",
    "print(\"Stemmed Tokens :\", stemmed_tokens)\n",
    "print(\"Lemmatized Stemmed Tokens :\", lemmatized_tokens)\n",
    "print(\"Unique Stemmed Tokens :\", unique_tokens)"
   ]
  }
 ],
 "metadata": {
  "kernelspec": {
   "display_name": "Python 3",
   "language": "python",
   "name": "python3"
  },
  "language_info": {
   "codemirror_mode": {
    "name": "ipython",
    "version": 3
   },
   "file_extension": ".py",
   "mimetype": "text/x-python",
   "name": "python",
   "nbconvert_exporter": "python",
   "pygments_lexer": "ipython3",
   "version": "3.12.0"
  }
 },
 "nbformat": 4,
 "nbformat_minor": 2
}
