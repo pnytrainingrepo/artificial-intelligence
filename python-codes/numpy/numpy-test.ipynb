{
 "cells": [
  {
   "cell_type": "code",
   "execution_count": 1,
   "metadata": {},
   "outputs": [
    {
     "name": "stdout",
     "output_type": "stream",
     "text": [
      "Requirement already satisfied: numpy in c:\\users\\azam\\appdata\\local\\programs\\python\\python312\\lib\\site-packages (1.26.0)\n",
      "Note: you may need to restart the kernel to use updated packages.\n"
     ]
    },
    {
     "name": "stderr",
     "output_type": "stream",
     "text": [
      "\n",
      "[notice] A new release of pip is available: 23.3.1 -> 24.2\n",
      "[notice] To update, run: python.exe -m pip install --upgrade pip\n"
     ]
    }
   ],
   "source": [
    "pip install numpy"
   ]
  },
  {
   "cell_type": "code",
   "execution_count": 3,
   "metadata": {},
   "outputs": [
    {
     "name": "stdout",
     "output_type": "stream",
     "text": [
      "1.26.0\n"
     ]
    }
   ],
   "source": [
    "import numpy as np\n",
    "print(np.__version__)\n"
   ]
  },
  {
   "cell_type": "code",
   "execution_count": 2,
   "metadata": {},
   "outputs": [
    {
     "name": "stdout",
     "output_type": "stream",
     "text": [
      "[1 2 3 4 5]\n",
      "<class 'numpy.ndarray'>\n"
     ]
    }
   ],
   "source": [
    "import numpy as np\n",
    "arr = np.array([1,2,3,4,5])\n",
    "print(arr)\n",
    "print(type(arr))"
   ]
  },
  {
   "cell_type": "code",
   "execution_count": 8,
   "metadata": {},
   "outputs": [
    {
     "name": "stdout",
     "output_type": "stream",
     "text": [
      "[[ 1  2  3  5  6]\n",
      " [ 6  8  9 10 11]]\n",
      "2\n",
      "[[[1 2 3]\n",
      "  [4 5 6]]\n",
      "\n",
      " [[1 2 3]\n",
      "  [4 5 6]]]\n",
      "3\n"
     ]
    }
   ],
   "source": [
    "import numpy as np\n",
    "arr = np.array([[1,2,3,5,6],[6,8,9,10,11]])\n",
    "d = np.array([[[1,2,3], [4,5,6]], [[1,2,3], [4,5,6]]])\n",
    "print(arr)\n",
    "print(arr.ndim)\n",
    "print(d)\n",
    "print(d.ndim)"
   ]
  },
  {
   "cell_type": "code",
   "execution_count": 9,
   "metadata": {},
   "outputs": [
    {
     "name": "stdout",
     "output_type": "stream",
     "text": [
      "[1 2 3 4]\n"
     ]
    }
   ],
   "source": [
    "li = [1, 2, 3, 4]  \n",
    "print(np.array(li)) "
   ]
  },
  {
   "cell_type": "code",
   "execution_count": 10,
   "metadata": {},
   "outputs": [
    {
     "name": "stdout",
     "output_type": "stream",
     "text": [
      "[[ 1  2  3  4]\n",
      " [ 5  6  7  8]\n",
      " [ 9 10 11 12]]\n"
     ]
    }
   ],
   "source": [
    "list_1 = [1, 2, 3, 4] \n",
    "list_2 = [5, 6, 7, 8] \n",
    "list_3 = [9, 10, 11, 12] \n",
    "print(np.array([list_1, list_2, list_3])) "
   ]
  },
  {
   "cell_type": "code",
   "execution_count": 11,
   "metadata": {},
   "outputs": [
    {
     "name": "stdout",
     "output_type": "stream",
     "text": [
      "[1 2 3 4 5 6 7 8 9]\n"
     ]
    }
   ],
   "source": [
    "print(np.arange(1, 10)) "
   ]
  },
  {
   "cell_type": "code",
   "execution_count": 12,
   "metadata": {},
   "outputs": [
    {
     "name": "stdout",
     "output_type": "stream",
     "text": [
      "[ 1.   5.5 10. ]\n"
     ]
    }
   ],
   "source": [
    "print(np.linspace(1, 10, 3)) "
   ]
  },
  {
   "cell_type": "code",
   "execution_count": 13,
   "metadata": {},
   "outputs": [
    {
     "name": "stdout",
     "output_type": "stream",
     "text": [
      "[0 0 0 0 0]\n"
     ]
    }
   ],
   "source": [
    "print(np.zeros(5, dtype=int)) "
   ]
  },
  {
   "cell_type": "code",
   "execution_count": 17,
   "metadata": {},
   "outputs": [
    {
     "name": "stdout",
     "output_type": "stream",
     "text": [
      "[0.71552569 0.92769608 0.74690242 0.74747579 0.95211345]\n"
     ]
    }
   ],
   "source": [
    "print(np.random.rand(5)) "
   ]
  },
  {
   "cell_type": "code",
   "execution_count": 18,
   "metadata": {},
   "outputs": [
    {
     "name": "stdout",
     "output_type": "stream",
     "text": [
      "Size: 4\n",
      "len: 4\n",
      "Shape: (4,)\n",
      "Datatype: int32\n",
      "[1. 2. 3. 4.]\n",
      "Datatype: float64\n"
     ]
    }
   ],
   "source": [
    "arr = np.asarray([1, 2, 3, 4]) \n",
    "# check size of the array \n",
    "print(\"Size:\", arr.size) \n",
    "  \n",
    "# check len of the array \n",
    "print(\"len:\", len(arr)) \n",
    "  \n",
    "# check shape of the array \n",
    "print(\"Shape:\", arr.shape) \n",
    "  \n",
    "# check dtype of the array elements \n",
    "print(\"Datatype:\", arr.dtype) \n",
    "  \n",
    "# change the dtype to 'float64' \n",
    "arr = arr.astype('float64') \n",
    "print(arr) \n",
    "print(\"Datatype:\", arr.dtype)"
   ]
  },
  {
   "cell_type": "code",
   "execution_count": 19,
   "metadata": {},
   "outputs": [
    {
     "name": "stdout",
     "output_type": "stream",
     "text": [
      "[0 1 2 3 4 5 6 7 8 9]\n"
     ]
    }
   ],
   "source": [
    "# the array is saved in the file geekfile.npy \n",
    "np.save(\"geekfile\", np.arange(10)) \n",
    "  \n",
    "# the array is loaded into b \n",
    "print(np.load(\"geekfile.npy\"))"
   ]
  },
  {
   "cell_type": "code",
   "execution_count": 20,
   "metadata": {},
   "outputs": [
    {
     "name": "stdout",
     "output_type": "stream",
     "text": [
      "[0 1 2 3 4 5 6 7 8 9]\n"
     ]
    }
   ],
   "source": [
    "x = np.arange(0, 10, 1) \n",
    "print(x) \n",
    "  \n",
    "# X array saved in geekfile.txt \n",
    "c = np.savetxt(\"geekfile.txt\", x, delimiter =', ')"
   ]
  },
  {
   "cell_type": "code",
   "execution_count": 22,
   "metadata": {},
   "outputs": [
    {
     "name": "stdout",
     "output_type": "stream",
     "text": [
      "[[nan nan nan]\n",
      " [ 1. nan nan]\n",
      " [ 2. nan nan]\n",
      " [ 3. nan nan]]\n"
     ]
    }
   ],
   "source": [
    "Data = np.genfromtxt(\"data.csv\", delimiter=\",\") \n",
    "print(Data)"
   ]
  },
  {
   "cell_type": "code",
   "execution_count": 24,
   "metadata": {},
   "outputs": [
    {
     "name": "stdout",
     "output_type": "stream",
     "text": [
      "[1 2 3 4 5]\n",
      "<class 'numpy.ndarray'>\n"
     ]
    },
    {
     "data": {
      "text/plain": [
       "3.0"
      ]
     },
     "execution_count": 24,
     "metadata": {},
     "output_type": "execute_result"
    }
   ],
   "source": [
    "import numpy as np\n",
    "arr = np.array([1,2,3,4,5])\n",
    "print(arr)\n",
    "print(type(arr))\n",
    "np.mean(arr)"
   ]
  },
  {
   "cell_type": "code",
   "execution_count": 25,
   "metadata": {},
   "outputs": [
    {
     "data": {
      "text/plain": [
       "2.0"
      ]
     },
     "execution_count": 25,
     "metadata": {},
     "output_type": "execute_result"
    }
   ],
   "source": [
    "np.var(arr, dtype = np.float32)"
   ]
  },
  {
   "cell_type": "code",
   "execution_count": 26,
   "metadata": {},
   "outputs": [
    {
     "data": {
      "text/plain": [
       "1.4142135"
      ]
     },
     "execution_count": 26,
     "metadata": {},
     "output_type": "execute_result"
    }
   ],
   "source": [
    "np.std(arr, dtype = np.float32)"
   ]
  },
  {
   "cell_type": "code",
   "execution_count": 2,
   "metadata": {},
   "outputs": [
    {
     "name": "stdout",
     "output_type": "stream",
     "text": [
      "[1 2 3 4 5 6 7 8 9]\n",
      "[ 1.   5.5 10. ]\n",
      "[0 0 0 0 0]\n",
      "[1 1 1 1 1]\n",
      "[0.20891537 0.16307301 0.66980091 0.68797965 0.2698585 ]\n",
      "[4 4 3 4 3 3 3 4 3 0]\n"
     ]
    }
   ],
   "source": [
    "import numpy as np\n",
    "# create a NumPy array using numpy.arange() \n",
    "print(np.arange(1, 10)) \n",
    "  \n",
    "# create a NumPy array using numpy.linspace() \n",
    "print(np.linspace(1, 10, 3)) \n",
    "  \n",
    "# create a NumPy array using numpy.zeros() \n",
    "print(np.zeros(5, dtype=int)) \n",
    "  \n",
    "# create a NumPy array using numpy.ones() \n",
    "print(np.ones(5, dtype=int)) \n",
    "  \n",
    "# create a NumPy array using numpy.random.rand() \n",
    "print(np.random.rand(5)) \n",
    "  \n",
    "# create a NumPy array using numpy.random.randint() \n",
    "print(np.random.randint(5, size=10)) "
   ]
  },
  {
   "cell_type": "code",
   "execution_count": 3,
   "metadata": {},
   "outputs": [
    {
     "name": "stdout",
     "output_type": "stream",
     "text": [
      "[[0 0 0]\n",
      " [0 0 0]\n",
      " [0 0 0]\n",
      " [0 0 0]]\n",
      "[[1 1 1]\n",
      " [1 1 1]\n",
      " [1 1 1]\n",
      " [1 1 1]]\n",
      "[[67 67]\n",
      " [67 67]]\n",
      "[[1. 0. 0. 0.]\n",
      " [0. 1. 0. 0.]\n",
      " [0. 0. 1. 0.]\n",
      " [0. 0. 0. 1.]]\n"
     ]
    }
   ],
   "source": [
    "# create a NumPy array using numpy.zeros() \n",
    "print(np.zeros([4, 3], dtype = np.int32)) \n",
    "  \n",
    "# create a NumPy array using numpy.ones() \n",
    "print(np.ones([4, 3], dtype = np.int32)) \n",
    "  \n",
    "# create a NumPy array using numpy.full() \n",
    "print(np.full([2, 2], 67, dtype = int)) \n",
    "  \n",
    "# create a NumPy array using numpy.eye() \n",
    "print(np.eye(4))"
   ]
  },
  {
   "cell_type": "code",
   "execution_count": 4,
   "metadata": {},
   "outputs": [
    {
     "name": "stdout",
     "output_type": "stream",
     "text": [
      "Size: 4\n",
      "len: 4\n",
      "Shape: (4,)\n",
      "Datatype: int32\n",
      "[1. 2. 3. 4.]\n",
      "Datatype: float64\n",
      "\n",
      "List: [1.0, 2.0, 3.0, 4.0]\n",
      "<class 'list'>\n"
     ]
    }
   ],
   "source": [
    "arr = np.asarray([1, 2, 3, 4]) \n",
    "# check size of the array \n",
    "print(\"Size:\", arr.size) \n",
    "  \n",
    "# check len of the array \n",
    "print(\"len:\", len(arr)) \n",
    "  \n",
    "# check shape of the array \n",
    "print(\"Shape:\", arr.shape) \n",
    "  \n",
    "# check dtype of the array elements \n",
    "print(\"Datatype:\", arr.dtype) \n",
    "  \n",
    "# change the dtype to 'float64' \n",
    "arr = arr.astype('float64') \n",
    "print(arr) \n",
    "print(\"Datatype:\", arr.dtype) \n",
    "  \n",
    "# convert array to list \n",
    "lis = arr.tolist() \n",
    "print(\"\\nList:\", lis) \n",
    "print(type(lis))"
   ]
  },
  {
   "cell_type": "code",
   "execution_count": 8,
   "metadata": {},
   "outputs": [
    {
     "name": "stdout",
     "output_type": "stream",
     "text": [
      "Array before sorting [12 15 10  1]\n",
      "Array after sorting [ 1 10 12 15]\n",
      "Array before sorting ['Orange' 'Banana' 'mango' 'gava']\n",
      "Array after sorting ['Banana' 'Orange' 'gava' 'mango']\n"
     ]
    }
   ],
   "source": [
    "# sorting a one dimensional \n",
    "# numpy array using numpy.sort() \n",
    "a = np.array([12, 15, 10, 1]) \n",
    "b= np.array(['Orange','Banana','mango','gava'])\n",
    "print(\"Array before sorting\",a) \n",
    "a.sort() \n",
    "print(\"Array after sorting\",a)\n",
    "\n",
    "print(\"Array before sorting\",b) \n",
    "b.sort() \n",
    "print(\"Array after sorting\",b)"
   ]
  },
  {
   "cell_type": "code",
   "execution_count": 9,
   "metadata": {},
   "outputs": [
    {
     "name": "stdout",
     "output_type": "stream",
     "text": [
      "Along first axis : \n",
      " [[10  1]\n",
      " [12 15]]\n",
      "\n",
      "Along Last axis : \n",
      " [[10 15]\n",
      " [ 1 12]]\n",
      "\n",
      "Along none axis : \n",
      " [ 1 10 12 15]\n"
     ]
    }
   ],
   "source": [
    "# sorting a two dimensional \n",
    "# numpy array using numpy.sort() \n",
    "# sort along the first axis \n",
    "a = np.array([[12, 15], [10, 1]]) \n",
    "arr1 = np.sort(a, axis = 0)     \n",
    "print (\"Along first axis : \\n\", arr1)     \n",
    "  \n",
    "# sort along the last axis \n",
    "a = np.array([[10, 15], [12, 1]]) \n",
    "arr2 = np.sort(a, axis = -1)     \n",
    "print (\"\\nAlong Last axis : \\n\", arr2) \n",
    "  \n",
    "a = np.array([[12, 15], [10, 1]]) \n",
    "arr1 = np.sort(a, axis = None)     \n",
    "print (\"\\nAlong none axis : \\n\", arr1)"
   ]
  },
  {
   "cell_type": "code",
   "execution_count": 12,
   "metadata": {},
   "outputs": [
    {
     "name": "stdout",
     "output_type": "stream",
     "text": [
      "Original Array: [1. 2. 3. 4. 7. 7.]\n",
      "Array after appending: [1. 2. 3. 4. 7. 7. 8.]\n"
     ]
    }
   ],
   "source": [
    "# Adding the values at the end \n",
    "# of a numpy array \n",
    "rr = np.asarray([1, 2, 3, 4]) \n",
    "print(\"Original Array:\", arr) \n",
    "  \n",
    "# appending to the array \n",
    "arr = np.append(arr, [8]) \n",
    "print(\"Array after appending:\", arr)"
   ]
  },
  {
   "cell_type": "code",
   "execution_count": 16,
   "metadata": {},
   "outputs": [
    {
     "name": "stdout",
     "output_type": "stream",
     "text": [
      "Original Array\n",
      "[[ 1  2  3  4  5  6]\n",
      " [ 7  8  9 10 11 12]] \n",
      "\n"
     ]
    }
   ],
   "source": [
    "# Adding the values at the end \n",
    "# of a numpy array \n",
    "arr = np.arange(1, 13).reshape(2, 6) \n",
    "print(\"Original Array\") \n",
    "print(arr, \"\\n\") "
   ]
  },
  {
   "cell_type": "code",
   "execution_count": 19,
   "metadata": {},
   "outputs": [
    {
     "name": "stdout",
     "output_type": "stream",
     "text": [
      "Array after appending the values column wise\n",
      "[[ 1  2  3  4  5  6]\n",
      " [ 7  8  9 10 11 12]\n",
      " [ 5  6  7  8  9 10]] \n",
      "\n"
     ]
    }
   ],
   "source": [
    "# create another array which is \n",
    "# to be appended column-wise \n",
    "col = np.arange(5, 11).reshape(1, 6) \n",
    "arr_col = np.append(arr, col, axis=0) \n",
    "print(\"Array after appending the values column wise\") \n",
    "print(arr_col, \"\\n\") "
   ]
  },
  {
   "cell_type": "code",
   "execution_count": 22,
   "metadata": {},
   "outputs": [
    {
     "name": "stdout",
     "output_type": "stream",
     "text": [
      "Array after appending the values row wise\n",
      "[[ 1  2  3  4  5  6  2]\n",
      " [ 7  8  9 10 11 12  3]]\n"
     ]
    }
   ],
   "source": [
    "# create an array which is \n",
    "# to be appended row wise \n",
    "row = np.array([2, 3]).reshape(2, 1) \n",
    "arr_row = np.append(arr, row, axis=1) \n",
    "print(\"Array after appending the values row wise\") \n",
    "print(arr_row)"
   ]
  },
  {
   "cell_type": "code",
   "execution_count": 28,
   "metadata": {},
   "outputs": [
    {
     "name": "stdout",
     "output_type": "stream",
     "text": [
      "1D arr: [1 4 3 5 9]\n",
      "Shape: (5,)\n",
      "\n",
      "Array after insertion: [1 9 4 3 5 9]\n",
      "Shape: (6,)\n"
     ]
    }
   ],
   "source": [
    "arr = np.asarray([1, 4, 3, 5,9]) \n",
    "# Python Program illustrating numpy.insert() \n",
    "print(\"1D arr:\", arr) \n",
    "print(\"Shape:\", arr.shape) \n",
    "  \n",
    "# Inserting value 9 at index 1 \n",
    "a = np.insert(arr, 1, 9) \n",
    "print(\"\\nArray after insertion:\", a) \n",
    "print(\"Shape:\", a.shape)"
   ]
  },
  {
   "cell_type": "code",
   "execution_count": 29,
   "metadata": {},
   "outputs": [
    {
     "name": "stdout",
     "output_type": "stream",
     "text": [
      "Original arr: [1 2 3 4 5]\n",
      "Shape :  (5,)\n",
      "\n",
      "deleteing the value at index 2 from array:\n",
      " [1 2 4 5]\n",
      "Shape :  (4,)\n"
     ]
    }
   ],
   "source": [
    "# Python Program illustrating \n",
    "# numpy.delete() \n",
    "\n",
    "arr = np.asarray([1,2,3,4,5]) \n",
    "print(\"Original arr:\", arr) \n",
    "print(\"Shape : \", arr.shape) \n",
    "  \n",
    "# deletion from 1D array \n",
    "object = 2\n",
    "a = np.delete(arr, object) \n",
    "print(\"\\ndeleteing the value at index {} from array:\\n {}\".format(object,a)) \n",
    "print(\"Shape : \", a.shape)"
   ]
  },
  {
   "cell_type": "code",
   "execution_count": 30,
   "metadata": {},
   "outputs": [
    {
     "name": "stdout",
     "output_type": "stream",
     "text": [
      "Array: [ 1  2  3  4  5  6  7  8  9 10 11 12 13 14 15 16]\n",
      "First Reshaped Array:\n",
      "[[ 1  2  3  4]\n",
      " [ 5  6  7  8]\n",
      " [ 9 10 11 12]\n",
      " [13 14 15 16]]\n",
      "\n",
      "Second Reshaped Array:\n",
      "[[ 1  2  3  4  5  6  7  8]\n",
      " [ 9 10 11 12 13 14 15 16]]\n"
     ]
    }
   ],
   "source": [
    "# creating a numpy array \n",
    "array = np.array([1, 2, 3, 4, 5, 6, 7, 8, 9, 10, 11, 12, 13, 14, 15, 16]) \n",
    "  \n",
    "# printing array \n",
    "print(\"Array: \" + str(array)) \n",
    "  \n",
    "# reshaping numpy array \n",
    "# converting it to 2-D from 1-D array \n",
    "reshaped1 = array.reshape((4, array.size//4)) \n",
    "  \n",
    "# printing reshaped array \n",
    "print(\"First Reshaped Array:\") \n",
    "print(reshaped1) \n",
    "  \n",
    "# creating another reshaped array \n",
    "reshaped2 = np.reshape(array, (2, 8)) \n",
    "  \n",
    "# printing reshaped array \n",
    "print(\"\\nSecond Reshaped Array:\") \n",
    "print(reshaped2)"
   ]
  },
  {
   "cell_type": "code",
   "execution_count": 31,
   "metadata": {},
   "outputs": [
    {
     "name": "stdout",
     "output_type": "stream",
     "text": [
      "Addition: [  7  77  23 130]\n",
      "Subtraction: [ 3 67  3 70]\n",
      "Multiplication: [  10  360  130 3000]\n",
      "Division: [ 2.5        14.4         1.3         3.33333333]\n",
      "Mod: [ 1  2  3 10]\n",
      "Remainder: [ 1  2  3 10]\n",
      "Power: [        25 1934917632  419538377          0]\n",
      "Exponentiation: [7.38905610e+00 1.48413159e+02 2.20264658e+04 1.06864746e+13]\n"
     ]
    }
   ],
   "source": [
    "# Defining both the matrices \n",
    "a = np.array([5, 72, 13, 100]) \n",
    "b = np.array([2, 5, 10, 30]) \n",
    "  \n",
    "# Performing addition using numpy function \n",
    "print(\"Addition:\", np.add(a, b)) \n",
    "  \n",
    "# Performing subtraction using numpy function \n",
    "print(\"Subtraction:\", np.subtract(a, b)) \n",
    "  \n",
    "# Performing multiplication using numpy function \n",
    "print(\"Multiplication:\", np.multiply(a, b)) \n",
    "  \n",
    "# Performing division using numpy functions \n",
    "print(\"Division:\", np.divide(a, b)) \n",
    "  \n",
    "# Performing mod on two matrices \n",
    "print(\"Mod:\", np.mod(a, b)) \n",
    "  \n",
    "#Performing remainder on two matrices \n",
    "print(\"Remainder:\", np.remainder(a,b)) \n",
    "  \n",
    "# Performing power of two matrices \n",
    "print(\"Power:\", np.power(a, b)) \n",
    "  \n",
    "# Performing Exponentiation \n",
    "print(\"Exponentiation:\", np.exp(b))"
   ]
  },
  {
   "cell_type": "code",
   "execution_count": 32,
   "metadata": {},
   "outputs": [
    {
     "name": "stdout",
     "output_type": "stream",
     "text": [
      "mean of arr: 12.8\n",
      "median of arr: 7.0\n",
      "Sum of arr(uint8): 64\n",
      "Sum of arr(float32): 64.0\n",
      "maximum element: 34\n",
      "minimum element: 1\n",
      "var of arr: 158.16\n",
      "var of arr(float32): 158.16\n",
      "std of arr: 12.576167937809991\n",
      "More precision with float32 12.576168\n"
     ]
    }
   ],
   "source": [
    "# 1D array \n",
    "arr = [20, 2, 7, 1, 34] \n",
    "  \n",
    "# mean \n",
    "print(\"mean of arr:\", np.mean(arr)) \n",
    "  \n",
    "# median \n",
    "print(\"median of arr:\", np.median(arr)) \n",
    "  \n",
    "# sum \n",
    "print(\"Sum of arr(uint8):\", np.sum(arr, dtype = np.uint8)) \n",
    "print(\"Sum of arr(float32):\", np.sum(arr, dtype = np.float32)) \n",
    "  \n",
    "# min and max \n",
    "print(\"maximum element:\", np.max(arr)) \n",
    "print(\"minimum element:\", np.min(arr)) \n",
    "  \n",
    "# var \n",
    "print(\"var of arr:\", np.var(arr)) \n",
    "print(\"var of arr(float32):\", np.var(arr, dtype = np.float32)) \n",
    "  \n",
    "# standard deviation \n",
    "print(\"std of arr:\", np.std(arr)) \n",
    "print (\"More precision with float32\", np.std(arr, dtype = np.float32))"
   ]
  },
  {
   "cell_type": "code",
   "execution_count": 33,
   "metadata": {},
   "outputs": [
    {
     "name": "stdout",
     "output_type": "stream",
     "text": [
      "[[1. 1.]\n",
      " [1. 1.]]\n"
     ]
    }
   ],
   "source": [
    "# create numpy 1d-array \n",
    "array1 = np.array([0, 1, 2]) \n",
    "array2 = np.array([3, 4, 5]) \n",
    "  \n",
    "# pearson product-moment correlation \n",
    "# coefficients of the arrays \n",
    "rslt = np.corrcoef(array1, array2) \n",
    "  \n",
    "print(rslt)"
   ]
  }
 ],
 "metadata": {
  "kernelspec": {
   "display_name": "Python 3",
   "language": "python",
   "name": "python3"
  },
  "language_info": {
   "codemirror_mode": {
    "name": "ipython",
    "version": 3
   },
   "file_extension": ".py",
   "mimetype": "text/x-python",
   "name": "python",
   "nbconvert_exporter": "python",
   "pygments_lexer": "ipython3",
   "version": "3.12.0"
  }
 },
 "nbformat": 4,
 "nbformat_minor": 2
}
