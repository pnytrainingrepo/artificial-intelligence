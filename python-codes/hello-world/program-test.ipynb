{
 "cells": [
  {
   "cell_type": "code",
   "execution_count": 1,
   "metadata": {},
   "outputs": [
    {
     "name": "stdout",
     "output_type": "stream",
     "text": [
      "[1, 2, 3, 4]\n"
     ]
    }
   ],
   "source": [
    "mylist = [1,2,3,4]\n",
    "print(mylist)"
   ]
  },
  {
   "cell_type": "code",
   "execution_count": 2,
   "metadata": {},
   "outputs": [
    {
     "name": "stdout",
     "output_type": "stream",
     "text": [
      "4\n"
     ]
    }
   ],
   "source": [
    "print(len(mylist))"
   ]
  },
  {
   "cell_type": "code",
   "execution_count": 10,
   "metadata": {},
   "outputs": [
    {
     "name": "stdout",
     "output_type": "stream",
     "text": [
      "[1, 'Gava', 'Orange', 'Orange', 'Orange', 'Orange', 'Orange', 3, 4, 5, 5, 5, 5, 5, 5, 5]\n"
     ]
    }
   ],
   "source": [
    "mylist[1] = \"Orange\"\n",
    "mylist.append(5)\n",
    "mylist.insert(1,\"Gava\")\n",
    "mylist.remove(\"Orange\")\n",
    "print(mylist)\n"
   ]
  },
  {
   "cell_type": "code",
   "execution_count": 14,
   "metadata": {},
   "outputs": [
    {
     "name": "stdout",
     "output_type": "stream",
     "text": [
      "[2, 3, 4]\n"
     ]
    }
   ],
   "source": [
    "mylist = [1,2,3,4]\n",
    "mylist.remove(1)\n",
    "print(mylist)"
   ]
  },
  {
   "cell_type": "code",
   "execution_count": 16,
   "metadata": {},
   "outputs": [
    {
     "name": "stdout",
     "output_type": "stream",
     "text": [
      "[2, 3, 4]\n",
      "[2, 4]\n"
     ]
    }
   ],
   "source": [
    "print(mylist)\n",
    "mylist.pop(1)\n",
    "print(mylist)"
   ]
  },
  {
   "cell_type": "code",
   "execution_count": 21,
   "metadata": {},
   "outputs": [
    {
     "name": "stdout",
     "output_type": "stream",
     "text": [
      "[5, 6, 5, 1, 2, 3, 4, 7, 9, 'B', 'A']\n"
     ]
    },
    {
     "ename": "TypeError",
     "evalue": "'<' not supported between instances of 'str' and 'int'",
     "output_type": "error",
     "traceback": [
      "\u001b[1;31m---------------------------------------------------------------------------\u001b[0m",
      "\u001b[1;31mTypeError\u001b[0m                                 Traceback (most recent call last)",
      "Cell \u001b[1;32mIn[21], line 4\u001b[0m\n\u001b[0;32m      2\u001b[0m mystring\u001b[38;5;241m=\u001b[39m[\u001b[38;5;124m\"\u001b[39m\u001b[38;5;124mB\u001b[39m\u001b[38;5;124m\"\u001b[39m,\u001b[38;5;124m\"\u001b[39m\u001b[38;5;124mC\u001b[39m\u001b[38;5;124m\"\u001b[39m,\u001b[38;5;124m\"\u001b[39m\u001b[38;5;124mA\u001b[39m\u001b[38;5;124m\"\u001b[39m]\n\u001b[0;32m      3\u001b[0m \u001b[38;5;28mprint\u001b[39m(mylist)\n\u001b[1;32m----> 4\u001b[0m \u001b[43mmylist\u001b[49m\u001b[38;5;241;43m.\u001b[39;49m\u001b[43msort\u001b[49m\u001b[43m(\u001b[49m\u001b[43m)\u001b[49m\n\u001b[0;32m      5\u001b[0m \u001b[38;5;28mprint\u001b[39m(mylist)\n\u001b[0;32m      6\u001b[0m \u001b[38;5;28mprint\u001b[39m(mystring)\n",
      "\u001b[1;31mTypeError\u001b[0m: '<' not supported between instances of 'str' and 'int'"
     ]
    }
   ],
   "source": [
    "mylist = [5,6,5,1,2,3,4,7,9,\"B\", \"A\"]\n",
    "mystring=[\"B\",\"C\",\"A\"]\n",
    "print(mylist)\n",
    "mylist.sort()\n",
    "print(mylist)\n",
    "print(mystring)"
   ]
  },
  {
   "cell_type": "code",
   "execution_count": 22,
   "metadata": {},
   "outputs": [
    {
     "name": "stdout",
     "output_type": "stream",
     "text": [
      "['A', 'B', 'C']\n"
     ]
    }
   ],
   "source": [
    "mystring=[\"B\",\"C\",\"A\"]\n",
    "mystring.sort()\n",
    "print(mystring)"
   ]
  },
  {
   "cell_type": "code",
   "execution_count": 32,
   "metadata": {},
   "outputs": [
    {
     "name": "stdout",
     "output_type": "stream",
     "text": [
      "('orange', 'banana', 'mango')\n",
      "['orange', 'banana', 'mango']\n",
      "['orange', 'banana', 'mango', 'Gava']\n",
      "('orange', 'banana', 'mango', 'Gava')\n"
     ]
    }
   ],
   "source": [
    "mytuple=(\"orange\",\"banana\", \"mango\")\n",
    "print(mytuple)\n",
    "y=list(mytuple)\n",
    "print(y)\n",
    "y.append(\"Gava\")\n",
    "print(y)\n",
    "mytuple = tuple(y)\n",
    "print(mytuple)"
   ]
  },
  {
   "cell_type": "code",
   "execution_count": 36,
   "metadata": {},
   "outputs": [
    {
     "name": "stdout",
     "output_type": "stream",
     "text": [
      "{'mango', 'banana', 'orange'}\n",
      "mango\n",
      "banana\n",
      "orange\n"
     ]
    }
   ],
   "source": [
    "myset={\"orange\",\"banana\", \"mango\",\"orange\"}\n",
    "print(myset)\n",
    "for x in myset:\n",
    "    print(x)\n"
   ]
  },
  {
   "cell_type": "code",
   "execution_count": 37,
   "metadata": {},
   "outputs": [
    {
     "name": "stdout",
     "output_type": "stream",
     "text": [
      "P\n",
      "N\n",
      "Y\n",
      " \n",
      "T\n",
      "R\n",
      "A\n",
      "N\n",
      "I\n",
      "N\n",
      "G\n"
     ]
    }
   ],
   "source": [
    "mystring=\"PNY TRANING\"\n",
    "for x in mystring:\n",
    "    print(x)"
   ]
  },
  {
   "cell_type": "code",
   "execution_count": 40,
   "metadata": {},
   "outputs": [
    {
     "name": "stdout",
     "output_type": "stream",
     "text": [
      "{'mango', 'gava', 'orange', 'banana'}\n",
      "{'mango', 'gava', 'orange', 'banana', 'watermelon'}\n"
     ]
    }
   ],
   "source": [
    "myset={\"orange\",\"banana\", \"mango\",\"gava\"}\n",
    "print(myset)\n",
    "myset.add(\"watermelon\")\n",
    "print(myset)"
   ]
  },
  {
   "cell_type": "code",
   "execution_count": 46,
   "metadata": {},
   "outputs": [
    {
     "name": "stdout",
     "output_type": "stream",
     "text": [
      "{'name': 'azam', 'fname': 'ch rashid', 'sex': 'male', 'age': '40'}\n",
      "dict_values(['azam', 'ch rashid', 'male', '40'])\n"
     ]
    }
   ],
   "source": [
    "mydict = {\n",
    "    \"name\":\"azam\",\n",
    "    \"fname\":\"ch rashid\",\n",
    "    \"sex\":\"male\",\n",
    "    \"age\":\"40\"\n",
    "    \n",
    "}\n",
    "print(mydict)\n",
    "print(mydict.values())"
   ]
  },
  {
   "cell_type": "code",
   "execution_count": 48,
   "metadata": {},
   "outputs": [
    {
     "name": "stdout",
     "output_type": "stream",
     "text": [
      "20\n"
     ]
    }
   ],
   "source": [
    "num1 = float(input(\"Enter the First Number : \"))\n",
    "num2 = float(input(\"Enter the First Number : \"))\n",
    "\n",
    "if num1 > num2:\n",
    "    print(num1);\n",
    "else:\n",
    "    print(num2);"
   ]
  },
  {
   "cell_type": "code",
   "execution_count": 53,
   "metadata": {},
   "outputs": [],
   "source": [
    "mylist=[\"orange\",\"banana\", \"mango\",\"gava\"]\n",
    "#print(mylist)\n",
    "for x in mylist:\n",
    "    \n",
    "    if x == \"mango\":\n",
    "        continue\n",
    "    print(x)\n"
   ]
  },
  {
   "cell_type": "code",
   "execution_count": 54,
   "metadata": {},
   "outputs": [
    {
     "name": "stdout",
     "output_type": "stream",
     "text": [
      "spicy orange\n",
      "spicy banana\n",
      "spicy mango\n",
      "spicy gava\n",
      "tasty orange\n",
      "tasty banana\n",
      "tasty mango\n",
      "tasty gava\n",
      "sweet orange\n",
      "sweet banana\n",
      "sweet mango\n",
      "sweet gava\n"
     ]
    }
   ],
   "source": [
    "adj = [\"spicy\",\"tasty\",\"sweet\"]\n",
    "mylist=[\"orange\",\"banana\", \"mango\",\"gava\"]\n",
    "\n",
    "for x in adj:\n",
    "    for y in mylist:\n",
    "        print(x,y)\n",
    "\n"
   ]
  }
 ],
 "metadata": {
  "kernelspec": {
   "display_name": "Python 3",
   "language": "python",
   "name": "python3"
  },
  "language_info": {
   "codemirror_mode": {
    "name": "ipython",
    "version": 3
   },
   "file_extension": ".py",
   "mimetype": "text/x-python",
   "name": "python",
   "nbconvert_exporter": "python",
   "pygments_lexer": "ipython3",
   "version": "3.12.0"
  }
 },
 "nbformat": 4,
 "nbformat_minor": 2
}
